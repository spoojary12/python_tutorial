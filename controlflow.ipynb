{
 "cells": [
  {
   "cell_type": "code",
   "execution_count": 3,
   "metadata": {},
   "outputs": [
    {
     "name": "stdout",
     "output_type": "stream",
     "text": [
      "namaste\n"
     ]
    }
   ],
   "source": [
    "# greet incoming passengers on self check-in  kiosk in relevant language\n",
    "\n",
    "def scan_passport():\n",
    "    country = input(\"Whats your country?:\")\n",
    "    return country\n",
    "\n",
    "def basic_greeter():\n",
    "    country = scan_passport()\n",
    "    if country == \"india\":\n",
    "        print(\"namaste\")\n",
    "    elif country == \"japan\":\n",
    "        print(\"konichiwa\")\n",
    "    elif country == \"spain\":\n",
    "        print(\"hola!\")\n",
    "    else:\n",
    "        print(\"hello\")\n",
    "\n",
    "def adv_greeter():\n",
    "    country = scan_passport()\n",
    "    match country:\n",
    "        case \"india\":\n",
    "            print(\"namaste\")\n",
    "        case \"japan\":\n",
    "            print(\"kojkj\")\n",
    "        case _:\n",
    "            print(\"hello\")\n",
    "\n",
    "\n",
    "\n",
    "adv_greeter()"
   ]
  },
  {
   "cell_type": "code",
   "execution_count": 7,
   "metadata": {},
   "outputs": [
    {
     "name": "stdout",
     "output_type": "stream",
     "text": [
      "1:  Dosa\n",
      "2: Idli\n",
      "\n"
     ]
    }
   ],
   "source": [
    "print(\"1:  Dosa\\n2: Idli\\n\")\n"
   ]
  },
  {
   "cell_type": "code",
   "execution_count": 8,
   "metadata": {},
   "outputs": [
    {
     "name": "stdout",
     "output_type": "stream",
     "text": [
      "2\n"
     ]
    }
   ],
   "source": [
    "option =int( input(\"enter your choice:\"))\n",
    "print(option)"
   ]
  }
 ],
 "metadata": {
  "kernelspec": {
   "display_name": "Python 3",
   "language": "python",
   "name": "python3"
  },
  "language_info": {
   "codemirror_mode": {
    "name": "ipython",
    "version": 3
   },
   "file_extension": ".py",
   "mimetype": "text/x-python",
   "name": "python",
   "nbconvert_exporter": "python",
   "pygments_lexer": "ipython3",
   "version": "3.12.1"
  }
 },
 "nbformat": 4,
 "nbformat_minor": 2
}
