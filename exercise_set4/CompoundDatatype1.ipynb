{
 "cells": [
  {
   "cell_type": "markdown",
   "id": "0e11faaa",
   "metadata": {},
   "source": [
    "# Coumpound Datatypes in Python"
   ]
  },
  {
   "cell_type": "markdown",
   "id": "76d8752a",
   "metadata": {},
   "source": [
    "## Lists\n",
    "\n",
    "List methods\n",
    "- **append()**\t   Adds an element at the end of the list\n",
    "- **clear()**\t   Removes all the elements from the list\n",
    "- **copy()**\tReturns a copy of the list\n",
    "- **count()**\tReturns the number of elements with the specified value\n",
    "- **extend()**\tAdd the elements of a list (or any iterable), to the end of the current list\n",
    "- **index()**\tReturns the index of the first element with the specified value\n",
    "- **insert()**\tAdds an element at the specified position\n",
    "- **pop()**\tRemoves the element at the specified position\n",
    "- **remove()**\tRemoves the first item with the specified value\n",
    "- **reverse()**\tReverses the order of the list\n",
    "- **sort()**\tSorts the list"
   ]
  },
  {
   "cell_type": "code",
   "execution_count": null,
   "id": "c9ea0f56",
   "metadata": {},
   "outputs": [],
   "source": [
    "friends = [\"prathjina\", \"meghna\", \"junaid\", \"tushar\", \"prajtit\"]"
   ]
  },
  {
   "cell_type": "code",
   "execution_count": 17,
   "id": "f1964d89",
   "metadata": {},
   "outputs": [
    {
     "data": {
      "text/plain": [
       "list"
      ]
     },
     "execution_count": 17,
     "metadata": {},
     "output_type": "execute_result"
    }
   ],
   "source": [
    "type(friends)"
   ]
  },
  {
   "cell_type": "code",
   "execution_count": 18,
   "id": "69bacfbd",
   "metadata": {},
   "outputs": [],
   "source": [
    "# Add a new friend to the list\n",
    "friends.append(\"rishika\")"
   ]
  },
  {
   "cell_type": "code",
   "execution_count": 19,
   "id": "5b6f905b",
   "metadata": {},
   "outputs": [
    {
     "data": {
      "text/plain": [
       "['prathjina', 'meghna', 'junaid', 'tushar', 'prajtit', 'rishika']"
      ]
     },
     "execution_count": 19,
     "metadata": {},
     "output_type": "execute_result"
    }
   ],
   "source": [
    "friends"
   ]
  },
  {
   "cell_type": "code",
   "execution_count": 20,
   "id": "c0401039",
   "metadata": {},
   "outputs": [
    {
     "data": {
      "text/plain": [
       "6"
      ]
     },
     "execution_count": 20,
     "metadata": {},
     "output_type": "execute_result"
    }
   ],
   "source": [
    "len(friends)"
   ]
  },
  {
   "cell_type": "code",
   "execution_count": 21,
   "id": "c812eea3",
   "metadata": {},
   "outputs": [
    {
     "data": {
      "text/plain": [
       "3"
      ]
     },
     "execution_count": 21,
     "metadata": {},
     "output_type": "execute_result"
    }
   ],
   "source": [
    "purchase = [\"milk\", \"sugar\", \"salt\", \"milk\", \"salt\", \"tea\", \"milk\"]\n",
    "purchase.count(\"milk\")"
   ]
  },
  {
   "cell_type": "code",
   "execution_count": 22,
   "id": "10515579",
   "metadata": {},
   "outputs": [
    {
     "name": "stdout",
     "output_type": "stream",
     "text": [
      "['milk', 'tea', 'salt', 'milk', 'salt', 'sugar', 'milk']\n"
     ]
    }
   ],
   "source": [
    "purchase.reverse()\n",
    "print(purchase)"
   ]
  },
  {
   "cell_type": "code",
   "execution_count": null,
   "id": "5c648777",
   "metadata": {},
   "outputs": [],
   "source": []
  },
  {
   "cell_type": "code",
   "execution_count": null,
   "id": "0a8eef69",
   "metadata": {},
   "outputs": [],
   "source": []
  },
  {
   "cell_type": "code",
   "execution_count": 25,
   "id": "d1fa92c1",
   "metadata": {},
   "outputs": [
    {
     "data": {
      "text/plain": [
       "['prathjina',\n",
       " 'meghna',\n",
       " 'junaid',\n",
       " 'tushar',\n",
       " 'prajtit',\n",
       " 'rishika',\n",
       " 'milk',\n",
       " 'tea',\n",
       " 'salt',\n",
       " 'milk',\n",
       " 'salt',\n",
       " 'sugar',\n",
       " 'milk']"
      ]
     },
     "execution_count": 25,
     "metadata": {},
     "output_type": "execute_result"
    }
   ],
   "source": [
    "allItems = friends + purchase\n",
    "allItems"
   ]
  },
  {
   "cell_type": "code",
   "execution_count": 26,
   "id": "710638da",
   "metadata": {},
   "outputs": [
    {
     "name": "stdout",
     "output_type": "stream",
     "text": [
      "milk\n",
      "tea\n",
      "salt\n",
      "milk\n",
      "salt\n",
      "sugar\n",
      "milk\n"
     ]
    }
   ],
   "source": [
    "# Iterate over a list\n",
    "for item in purchase:\n",
    "    print(item)"
   ]
  },
  {
   "cell_type": "code",
   "execution_count": 9,
   "id": "e6c4b372",
   "metadata": {},
   "outputs": [
    {
     "name": "stdout",
     "output_type": "stream",
     "text": [
      "monkey 5\n",
      "1.6666666666666667\n"
     ]
    },
    {
     "data": {
      "text/plain": [
       "28"
      ]
     },
     "execution_count": 9,
     "metadata": {},
     "output_type": "execute_result"
    }
   ],
   "source": [
    "# type inference\n",
    "name = \"monkey\"\n",
    "type(name)\n",
    "\n",
    "print(name , 5)\n",
    "\n",
    "print(5/3)\n",
    "\n",
    "import sys\n",
    "\n",
    "sys.getsizeof(4)\n",
    "\n"
   ]
  },
  {
   "cell_type": "code",
   "execution_count": 11,
   "id": "b2a7a96c",
   "metadata": {},
   "outputs": [
    {
     "name": "stdout",
     "output_type": "stream",
     "text": [
      "140703961562336\n",
      "140703961563392\n",
      "140703961564320\n"
     ]
    }
   ],
   "source": [
    "names = [\"a\",\"b\",\"c\"]\n",
    "for i in names:\n",
    "    print(id(i))"
   ]
  }
 ],
 "metadata": {
  "kernelspec": {
   "display_name": "Python 3 (ipykernel)",
   "language": "python",
   "name": "python3"
  },
  "language_info": {
   "codemirror_mode": {
    "name": "ipython",
    "version": 3
   },
   "file_extension": ".py",
   "mimetype": "text/x-python",
   "name": "python",
   "nbconvert_exporter": "python",
   "pygments_lexer": "ipython3",
   "version": "3.12.1"
  }
 },
 "nbformat": 4,
 "nbformat_minor": 5
}
