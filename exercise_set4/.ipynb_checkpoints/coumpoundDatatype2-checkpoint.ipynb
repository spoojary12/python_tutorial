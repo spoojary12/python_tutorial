{
 "cells": [
  {
   "cell_type": "markdown",
   "id": "15a5249c",
   "metadata": {},
   "source": [
    "# Dictionary"
   ]
  },
  {
   "cell_type": "code",
   "execution_count": 1,
   "id": "bf5d48c2",
   "metadata": {},
   "outputs": [],
   "source": [
    "employee_detail = { \"name\": \"ikea\", \"age\": 102, \"unit\": \"b\"}"
   ]
  },
  {
   "cell_type": "code",
   "execution_count": 3,
   "id": "a20035cc",
   "metadata": {},
   "outputs": [
    {
     "data": {
      "text/plain": [
       "'ikea'"
      ]
     },
     "execution_count": 3,
     "metadata": {},
     "output_type": "execute_result"
    }
   ],
   "source": [
    "employee_detail[\"name\"]"
   ]
  },
  {
   "cell_type": "code",
   "execution_count": 4,
   "id": "afbe44e3",
   "metadata": {},
   "outputs": [
    {
     "data": {
      "text/plain": [
       "102"
      ]
     },
     "execution_count": 4,
     "metadata": {},
     "output_type": "execute_result"
    }
   ],
   "source": [
    "employee_detail[\"age\"]"
   ]
  },
  {
   "cell_type": "code",
   "execution_count": null,
   "id": "dd05bef1",
   "metadata": {},
   "outputs": [],
   "source": []
  }
 ],
 "metadata": {
  "kernelspec": {
   "display_name": "Python 3 (ipykernel)",
   "language": "python",
   "name": "python3"
  },
  "language_info": {
   "codemirror_mode": {
    "name": "ipython",
    "version": 3
   },
   "file_extension": ".py",
   "mimetype": "text/x-python",
   "name": "python",
   "nbconvert_exporter": "python",
   "pygments_lexer": "ipython3",
   "version": "3.11.5"
  }
 },
 "nbformat": 4,
 "nbformat_minor": 5
}
