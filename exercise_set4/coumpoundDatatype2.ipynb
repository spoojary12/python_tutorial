{
 "cells": [
  {
   "cell_type": "markdown",
   "id": "15a5249c",
   "metadata": {},
   "source": [
    "# Dictionary"
   ]
  },
  {
   "cell_type": "code",
   "execution_count": 1,
   "id": "bf5d48c2",
   "metadata": {},
   "outputs": [],
   "source": [
    "employee_detail = { \"name\": \"ikea\", \"age\": 102, \"unit\": \"b\"}"
   ]
  },
  {
   "cell_type": "code",
   "execution_count": 2,
   "id": "a20035cc",
   "metadata": {},
   "outputs": [
    {
     "data": {
      "text/plain": [
       "'ikea'"
      ]
     },
     "execution_count": 2,
     "metadata": {},
     "output_type": "execute_result"
    }
   ],
   "source": [
    "employee_detail[\"name\"]"
   ]
  },
  {
   "cell_type": "code",
   "execution_count": 3,
   "id": "afbe44e3",
   "metadata": {},
   "outputs": [
    {
     "data": {
      "text/plain": [
       "102"
      ]
     },
     "execution_count": 3,
     "metadata": {},
     "output_type": "execute_result"
    }
   ],
   "source": [
    "employee_detail[\"age\"]"
   ]
  },
  {
   "cell_type": "code",
   "execution_count": 4,
   "id": "dd05bef1",
   "metadata": {},
   "outputs": [
    {
     "ename": "AttributeError",
     "evalue": "'dict' object has no attribute 'append'",
     "output_type": "error",
     "traceback": [
      "\u001b[1;31m---------------------------------------------------------------------------\u001b[0m",
      "\u001b[1;31mAttributeError\u001b[0m                            Traceback (most recent call last)",
      "Cell \u001b[1;32mIn[4], line 1\u001b[0m\n\u001b[1;32m----> 1\u001b[0m \u001b[43memployee_detail\u001b[49m\u001b[38;5;241;43m.\u001b[39;49m\u001b[43mappend\u001b[49m({\u001b[38;5;124m\"\u001b[39m\u001b[38;5;124mid\u001b[39m\u001b[38;5;124m\"\u001b[39m: \u001b[38;5;124m\"\u001b[39m\u001b[38;5;124miuehyiuy12\u001b[39m\u001b[38;5;124m\"\u001b[39m})\n",
      "\u001b[1;31mAttributeError\u001b[0m: 'dict' object has no attribute 'append'"
     ]
    }
   ],
   "source": [
    "employee_detail.append({\"id\": \"iuehyiuy12\"})"
   ]
  },
  {
   "cell_type": "code",
   "execution_count": 5,
   "id": "18175127",
   "metadata": {},
   "outputs": [],
   "source": [
    "employee_detail[\"id\"] = \"uyiuyuysdiufd\""
   ]
  },
  {
   "cell_type": "code",
   "execution_count": 6,
   "id": "efb5bad1",
   "metadata": {},
   "outputs": [
    {
     "data": {
      "text/plain": [
       "{'name': 'ikea', 'age': 102, 'unit': 'b', 'id': 'uyiuyuysdiufd'}"
      ]
     },
     "execution_count": 6,
     "metadata": {},
     "output_type": "execute_result"
    }
   ],
   "source": [
    "employee_detail"
   ]
  },
  {
   "cell_type": "code",
   "execution_count": 7,
   "id": "737a170f",
   "metadata": {},
   "outputs": [],
   "source": [
    "employee_detail.update({\"age\": 24})"
   ]
  },
  {
   "cell_type": "code",
   "execution_count": 8,
   "id": "ddae07b2",
   "metadata": {},
   "outputs": [
    {
     "data": {
      "text/plain": [
       "{'name': 'ikea', 'age': 24, 'unit': 'b', 'id': 'uyiuyuysdiufd'}"
      ]
     },
     "execution_count": 8,
     "metadata": {},
     "output_type": "execute_result"
    }
   ],
   "source": [
    "employee_detail"
   ]
  },
  {
   "cell_type": "code",
   "execution_count": 9,
   "id": "e35c9607",
   "metadata": {},
   "outputs": [
    {
     "data": {
      "text/plain": [
       "'uyiuyuysdiufd'"
      ]
     },
     "execution_count": 9,
     "metadata": {},
     "output_type": "execute_result"
    }
   ],
   "source": [
    "employee_detail.get(\"id\")"
   ]
  },
  {
   "cell_type": "code",
   "execution_count": 10,
   "id": "31ca2907",
   "metadata": {},
   "outputs": [
    {
     "data": {
      "text/plain": [
       "'uyiuyuysdiufd'"
      ]
     },
     "execution_count": 10,
     "metadata": {},
     "output_type": "execute_result"
    }
   ],
   "source": [
    "employee_detail['id']"
   ]
  },
  {
   "cell_type": "code",
   "execution_count": 16,
   "id": "8f0fb4b4",
   "metadata": {},
   "outputs": [
    {
     "name": "stdout",
     "output_type": "stream",
     "text": [
      "name: ikea\n",
      "age: 24\n",
      "unit: b\n",
      "id: uyiuyuysdiufd\n"
     ]
    }
   ],
   "source": [
    "for key, value in employee_detail.items():\n",
    "    print(key + \": \" +str(value))"
   ]
  },
  {
   "cell_type": "code",
   "execution_count": 17,
   "id": "fa841ddc",
   "metadata": {},
   "outputs": [
    {
     "name": "stdout",
     "output_type": "stream",
     "text": [
      "name\n",
      "age\n",
      "unit\n",
      "id\n"
     ]
    }
   ],
   "source": [
    "for i in employee_detail.keys():\n",
    "    print(i)"
   ]
  },
  {
   "cell_type": "code",
   "execution_count": 18,
   "id": "a164350a",
   "metadata": {},
   "outputs": [
    {
     "name": "stdout",
     "output_type": "stream",
     "text": [
      "ikea\n",
      "24\n",
      "b\n",
      "uyiuyuysdiufd\n"
     ]
    }
   ],
   "source": [
    "for i in employee_detail.values():\n",
    "    print(i)"
   ]
  },
  {
   "cell_type": "code",
   "execution_count": 3,
   "id": "b5c0b26b",
   "metadata": {},
   "outputs": [
    {
     "name": "stdout",
     "output_type": "stream",
     "text": [
      "[{'id': 'wqeqw', 'marks': [{'subject': 'maths', 'marks': 12, 'percentage': 0.6, 'pass': True}, {'subject': 'social', 'marks': 12, 'percentage': 0.6, 'pass': True}, {'subject': 'science', 'marks': 18, 'percentage': 0.9, 'pass': True}]}, {'id': 'wqeqw', 'marks': [{'subject': 'maths', 'marks': 12, 'percentage': 0.6, 'pass': True}, {'subject': 'social', 'marks': 12, 'percentage': 0.6, 'pass': True}, {'subject': 'science', 'marks': 18, 'percentage': 0.9, 'pass': True}]}, {'id': 'wqeqw', 'marks': [{'subject': 'maths', 'marks': 12, 'percentage': 0.6, 'pass': True}, {'subject': 'social', 'marks': 12, 'percentage': 0.6, 'pass': True}, {'subject': 'science', 'marks': 18, 'percentage': 0.9, 'pass': True}]}, {'id': 'erewrwe', 'marks': [{'subject': 'maths', 'marks': 14, 'percentage': 0.7, 'pass': True}, {'subject': 'social', 'marks': 18, 'percentage': 0.9, 'pass': True}, {'subject': 'science', 'marks': 13, 'percentage': 0.65, 'pass': True}]}, {'id': 'erewrwe', 'marks': [{'subject': 'maths', 'marks': 14, 'percentage': 0.7, 'pass': True}, {'subject': 'social', 'marks': 18, 'percentage': 0.9, 'pass': True}, {'subject': 'science', 'marks': 13, 'percentage': 0.65, 'pass': True}]}, {'id': 'erewrwe', 'marks': [{'subject': 'maths', 'marks': 14, 'percentage': 0.7, 'pass': True}, {'subject': 'social', 'marks': 18, 'percentage': 0.9, 'pass': True}, {'subject': 'science', 'marks': 13, 'percentage': 0.65, 'pass': True}]}, {'id': 'weewr', 'marks': [{'subject': 'maths', 'marks': 16, 'percentage': 0.8, 'pass': True}, {'subject': 'social', 'marks': 19, 'percentage': 0.95, 'pass': True}, {'subject': 'science', 'marks': 6, 'percentage': 0.3, 'pass': False}]}, {'id': 'weewr', 'marks': [{'subject': 'maths', 'marks': 16, 'percentage': 0.8, 'pass': True}, {'subject': 'social', 'marks': 19, 'percentage': 0.95, 'pass': True}, {'subject': 'science', 'marks': 6, 'percentage': 0.3, 'pass': False}]}, {'id': 'weewr', 'marks': [{'subject': 'maths', 'marks': 16, 'percentage': 0.8, 'pass': True}, {'subject': 'social', 'marks': 19, 'percentage': 0.95, 'pass': True}, {'subject': 'science', 'marks': 6, 'percentage': 0.3, 'pass': False}]}, {'id': 'uyiyu', 'marks': [{'subject': 'maths', 'marks': 6, 'percentage': 0.3, 'pass': False}, {'subject': 'social', 'marks': 15, 'percentage': 0.75, 'pass': True}, {'subject': 'science', 'marks': 16, 'percentage': 0.8, 'pass': True}]}, {'id': 'uyiyu', 'marks': [{'subject': 'maths', 'marks': 6, 'percentage': 0.3, 'pass': False}, {'subject': 'social', 'marks': 15, 'percentage': 0.75, 'pass': True}, {'subject': 'science', 'marks': 16, 'percentage': 0.8, 'pass': True}]}, {'id': 'uyiyu', 'marks': [{'subject': 'maths', 'marks': 6, 'percentage': 0.3, 'pass': False}, {'subject': 'social', 'marks': 15, 'percentage': 0.75, 'pass': True}, {'subject': 'science', 'marks': 16, 'percentage': 0.8, 'pass': True}]}, {'id': 'lkihc', 'marks': [{'subject': 'maths', 'marks': 18, 'percentage': 0.9, 'pass': True}, {'subject': 'social', 'marks': 17, 'percentage': 0.85, 'pass': True}, {'subject': 'science', 'marks': 11, 'percentage': 0.55, 'pass': True}]}, {'id': 'lkihc', 'marks': [{'subject': 'maths', 'marks': 18, 'percentage': 0.9, 'pass': True}, {'subject': 'social', 'marks': 17, 'percentage': 0.85, 'pass': True}, {'subject': 'science', 'marks': 11, 'percentage': 0.55, 'pass': True}]}, {'id': 'lkihc', 'marks': [{'subject': 'maths', 'marks': 18, 'percentage': 0.9, 'pass': True}, {'subject': 'social', 'marks': 17, 'percentage': 0.85, 'pass': True}, {'subject': 'science', 'marks': 11, 'percentage': 0.55, 'pass': True}]}]\n"
     ]
    }
   ],
   "source": [
    "student_id = [\"wqeqw\", \"erewrwe\", \"weewr\", \"uyiyu\", \"lkihc\"]\n",
    "marks_maths = [12, 14, 16, 6, 18]\n",
    "marks_science = [18, 13, 6, 16, 11]\n",
    "marks_social = [12, 18, 19, 15, 17]\n",
    "max_marks = {\n",
    "    \"maths\": 20,\n",
    "    \"social\": 20,\n",
    "    \"science\": 20\n",
    "}\n",
    "\n",
    "pass_percentage = .5\n",
    "## determine length of set\n",
    "n = len(student_id)\n",
    "## list of overall report\n",
    "overall_report = []\n",
    "## for each item in list\n",
    "for i in range(n):\n",
    "    ## empty dictionaries of student_report\n",
    "    student_report = {}\n",
    "    # get value at index i\n",
    "    student_report[\"id\"] = student_id[i]\n",
    "    ## create empty dictionaries of marks_list for each\n",
    "    marks_list = []\n",
    "    ## iterate key value in max_marks\n",
    "    for key, value in max_marks.items():\n",
    "          ## empty dictionaries of subject_report\n",
    "        subject_report = {}\n",
    "        ## finding key in subject report\n",
    "        subject_report[\"subject\"] = key\n",
    "        ##key value pair\n",
    "        if key == \"maths\":\n",
    "            ##initializing marks_maths\n",
    "            subject_report[\"marks\"] = marks_maths[i]\n",
    "            ## taking percentage of marks_maths\n",
    "            subject_report[\"percentage\"] = marks_maths[i]/value\n",
    "            ## passing the argument\n",
    "            subject_report[\"pass\"] = (marks_maths[i]/value) > 0.5\n",
    "        elif key == \"social\":\n",
    "            subject_report[\"marks\"] = marks_social[i]\n",
    "            subject_report[\"percentage\"] = marks_social[i]/value\n",
    "            subject_report[\"pass\"] = (marks_social[i]/value) > 0.5\n",
    "        else:\n",
    "            subject_report[\"marks\"] = marks_science[i]\n",
    "            subject_report[\"percentage\"] = marks_science[i]/value\n",
    "            subject_report[\"pass\"] = (marks_science[i]/value) > 0.5\n",
    "##appending all the student marks_list with subject_report\n",
    "        marks_list.append(subject_report)\n",
    "        student_report[\"marks\"] = marks_list\n",
    "        ##appending all the   student_report with overall_report\n",
    "        overall_report.append(student_report)\n",
    "## printing overall report\n",
    "print(overall_report)"
   ]
  },
  {
   "cell_type": "markdown",
   "id": "9a139393",
   "metadata": {},
   "source": [
    "## Output\n",
    "\n",
    "formatted report card for students which looks like this\n",
    "[\n",
    "    {\n",
    "        \"id\": \"kjlkjrkl\"\n",
    "        \"marks\":[\n",
    "            {\n",
    "                \"subject\": \"subject_name\",\n",
    "                \"marks\": 12,\n",
    "                \"percentage\": .45,\n",
    "                \"result\": \"pass/fail\"\n",
    "            }\n",
    "        ]\n",
    "    },\n",
    "    {\n",
    "        ...\n",
    "    },\n",
    "    {\n",
    "        ...\n",
    "    }\n",
    "]"
   ]
  },
  {
   "cell_type": "code",
   "execution_count": 2,
   "id": "330e01a8",
   "metadata": {},
   "outputs": [
    {
     "name": "stdout",
     "output_type": "stream",
     "text": [
      "[{'student_id': 'wqeqw', 'marks_maths': 12, 'marks_science': 18, 'marks_social': 12, 'percentage_maths': 0.6, 'percentage_social': 0.6, 'percentage_science': 0.9, 'is_pass_maths': True, 'is_pass_social': True, 'is_pass_science': True}, {'student_id': 'erewrwe', 'marks_maths': 14, 'marks_science': 13, 'marks_social': 18, 'percentage_maths': 0.7, 'percentage_social': 0.9, 'percentage_science': 0.65, 'is_pass_maths': True, 'is_pass_social': True, 'is_pass_science': True}, {'student_id': 'weewr', 'marks_maths': 16, 'marks_science': 6, 'marks_social': 19, 'percentage_maths': 0.8, 'percentage_social': 0.95, 'percentage_science': 0.3, 'is_pass_maths': True, 'is_pass_social': True, 'is_pass_science': False}, {'student_id': 'uyiyu', 'marks_maths': 6, 'marks_science': 16, 'marks_social': 15, 'percentage_maths': 0.3, 'percentage_social': 0.75, 'percentage_science': 0.8, 'is_pass_maths': False, 'is_pass_social': True, 'is_pass_science': True}, {'student_id': 'lkihc', 'marks_maths': 18, 'marks_science': 11, 'marks_social': 17, 'percentage_maths': 0.9, 'percentage_social': 0.85, 'percentage_science': 0.55, 'is_pass_maths': True, 'is_pass_social': True, 'is_pass_science': True}]\n"
     ]
    }
   ],
   "source": [
    "student_id = [\"wqeqw\", \"erewrwe\", \"weewr\", \"uyiyu\", \"lkihc\"]\n",
    "marks_maths = [12, 14, 16, 6, 18]\n",
    "marks_science = [18, 13, 6, 16, 11]\n",
    "marks_social = [12, 18, 19, 15, 17]\n",
    "max_marks = {\n",
    "    \"maths\": 20,\n",
    "    \"social\": 20,\n",
    "    \"science\": 20\n",
    "}\n",
    "\n",
    "pack = []\n",
    "for i in range(len(student_id)):\n",
    "    student = {\n",
    "        \"student_id\": student_id[i], \n",
    "        \"marks_maths\": marks_maths[i],\n",
    "        \"marks_science\":marks_science[i],\n",
    "        \"marks_social\": marks_social[i],\n",
    "        \"percentage_maths\": marks_maths[i]/max_marks[\"maths\"],\n",
    "        \"percentage_social\": marks_social[i]/max_marks[\"social\"],\n",
    "        \"percentage_science\": marks_science[i]/max_marks[\"science\"],\n",
    "        \"is_pass_maths\": (marks_maths[i]/max_marks[\"maths\"])> .5,\n",
    "        \"is_pass_social\":(marks_social[i]/max_marks[\"social\"]) > .5,\n",
    "        \"is_pass_science\": (marks_science[i]/max_marks[\"science\"]) > .5\n",
    "    }\n",
    "    pack.append(student)\n",
    "    \n",
    "print(pack)"
   ]
  },
  {
   "cell_type": "code",
   "execution_count": 17,
   "id": "ea073163",
   "metadata": {},
   "outputs": [
    {
     "data": {
      "text/plain": [
       "True"
      ]
     },
     "execution_count": 17,
     "metadata": {},
     "output_type": "execute_result"
    }
   ],
   "source": [
    "num = \"1\"\n",
    "parsed_int = int(num)\n",
    "str(parsed_int)\n",
    "str(True)\n",
    "\n",
    "names = [1,2,3]\n",
    "\n",
    "str(names)\n",
    "\n",
    "num2 = \"1.1\"\n",
    "float(num2)\n",
    "bool(num2)"
   ]
  },
  {
   "cell_type": "code",
   "execution_count": null,
   "id": "87e3fd58",
   "metadata": {},
   "outputs": [],
   "source": []
  }
 ],
 "metadata": {
  "kernelspec": {
   "display_name": "Python 3 (ipykernel)",
   "language": "python",
   "name": "python3"
  },
  "language_info": {
   "codemirror_mode": {
    "name": "ipython",
    "version": 3
   },
   "file_extension": ".py",
   "mimetype": "text/x-python",
   "name": "python",
   "nbconvert_exporter": "python",
   "pygments_lexer": "ipython3",
   "version": "3.12.1"
  }
 },
 "nbformat": 4,
 "nbformat_minor": 5
}
