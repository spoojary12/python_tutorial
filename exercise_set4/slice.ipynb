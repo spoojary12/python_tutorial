{
 "cells": [
  {
   "cell_type": "code",
   "execution_count": 8,
   "metadata": {},
   "outputs": [
    {
     "name": "stdout",
     "output_type": "stream",
     "text": [
      "[0, 1, 2, 3, 4, 5]\n"
     ]
    }
   ],
   "source": [
    "numbers = [0,1,2,3,4,5,6,7,8,9]\n",
    "\n",
    "print(numbers[:-4])"
   ]
  },
  {
   "cell_type": "code",
   "execution_count": 12,
   "metadata": {},
   "outputs": [
    {
     "name": "stdout",
     "output_type": "stream",
     "text": [
      "a-(1545451)\n",
      "Maths: 1, Science: 3, Social: 2, English:4\n",
      "________________\n",
      "b-(7687367)\n",
      "Maths: 7, Science: 4, Social: 2, English:5\n",
      "________________\n",
      "c-(8787333)\n",
      "Maths: 3, Science: 2, Social: 5, English:5\n",
      "________________\n"
     ]
    }
   ],
   "source": [
    "# comprehension\n",
    "\n",
    "markList = [\n",
    "    [(\"a\", 1545451), [1,2,3,4]],\n",
    "    [(\"b\", 7687367), [7,2,4,5]],\n",
    "    [(\"c\", 8787333), [3,5,2,5]]\n",
    "]\n",
    "\n",
    "for (name, id), marks in markList:\n",
    "    print(\"{}-({})\".format(name, str(id)))\n",
    "    math, social, science, english = marks\n",
    "    print(\"Maths: {}, Science: {}, Social: {}, English:{}\".format(math, science, social,english))\n",
    "    print(\"________________\")"
   ]
  },
  {
   "cell_type": "code",
   "execution_count": 16,
   "metadata": {},
   "outputs": [
    {
     "ename": "TypeError",
     "evalue": "'tuple' object does not support item assignment",
     "output_type": "error",
     "traceback": [
      "\u001b[1;31m---------------------------------------------------------------------------\u001b[0m",
      "\u001b[1;31mTypeError\u001b[0m                                 Traceback (most recent call last)",
      "Cell \u001b[1;32mIn[16], line 2\u001b[0m\n\u001b[0;32m      1\u001b[0m stuff \u001b[38;5;241m=\u001b[39m (\u001b[38;5;241m1\u001b[39m,\u001b[38;5;241m2\u001b[39m,\u001b[38;5;241m4\u001b[39m,\u001b[38;5;241m5\u001b[39m,\u001b[38;5;241m6\u001b[39m,\u001b[38;5;241m7\u001b[39m)\n\u001b[1;32m----> 2\u001b[0m \u001b[43mstuff\u001b[49m\u001b[43m[\u001b[49m\u001b[38;5;241;43m2\u001b[39;49m\u001b[43m]\u001b[49m \u001b[38;5;241m=\u001b[39m \u001b[38;5;241m8\u001b[39m\n",
      "\u001b[1;31mTypeError\u001b[0m: 'tuple' object does not support item assignment"
     ]
    }
   ],
   "source": [
    "stuff = (1,2,4,5,6,7)\n",
    "stuff[2] = 8"
   ]
  },
  {
   "cell_type": "code",
   "execution_count": 20,
   "metadata": {},
   "outputs": [
    {
     "data": {
      "text/plain": [
       "{1, 2, 3, 4, 5}"
      ]
     },
     "execution_count": 20,
     "metadata": {},
     "output_type": "execute_result"
    }
   ],
   "source": [
    "numbers = (1,2,3,3,4,3,3,5,4,2,3)\n",
    "unique_numbers = set(numbers)\n",
    "unique_numbers"
   ]
  },
  {
   "cell_type": "code",
   "execution_count": 18,
   "metadata": {},
   "outputs": [
    {
     "name": "stdout",
     "output_type": "stream",
     "text": [
      "9\n",
      "8\n",
      "7\n",
      "6\n",
      "5\n",
      "4\n",
      "3\n",
      "2\n",
      "1\n",
      "0\n"
     ]
    }
   ],
   "source": [
    "for i in reversed(numbers):\n",
    "    print(i)"
   ]
  }
 ],
 "metadata": {
  "kernelspec": {
   "display_name": "Python 3",
   "language": "python",
   "name": "python3"
  },
  "language_info": {
   "codemirror_mode": {
    "name": "ipython",
    "version": 3
   },
   "file_extension": ".py",
   "mimetype": "text/x-python",
   "name": "python",
   "nbconvert_exporter": "python",
   "pygments_lexer": "ipython3",
   "version": "3.12.1"
  }
 },
 "nbformat": 4,
 "nbformat_minor": 2
}
